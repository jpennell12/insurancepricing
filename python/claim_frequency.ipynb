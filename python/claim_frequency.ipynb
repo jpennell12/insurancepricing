{
 "metadata": {
  "language_info": {
   "codemirror_mode": {
    "name": "ipython",
    "version": 3
   },
   "file_extension": ".py",
   "mimetype": "text/x-python",
   "name": "python",
   "nbconvert_exporter": "python",
   "pygments_lexer": "ipython3",
   "version": "3.8.3-final"
  },
  "orig_nbformat": 2,
  "kernelspec": {
   "name": "python3",
   "display_name": "Python 3",
   "language": "python"
  }
 },
 "nbformat": 4,
 "nbformat_minor": 2,
 "cells": [
  {
   "cell_type": "code",
   "execution_count": null,
   "metadata": {},
   "outputs": [],
   "source": [
    "import pandas as pd\n",
    "from numpy import mean\n",
    "from numpy import std\n",
    "from matplotlib import pyplot as plt\n",
    "\n",
    "from sklearn import linear_model\n",
    "from sklearn.model_selection import train_test_split\n",
    "from sklearn.model_selection import cross_val_score\n",
    "from sklearn.model_selection import RepeatedStratifiedKFold\n",
    "\n",
    "from xgboost import XGBClassifier\n",
    "\n",
    "import time\n",
    "import tools\n"
   ]
  },
  {
   "cell_type": "code",
   "execution_count": null,
   "metadata": {},
   "outputs": [],
   "source": [
    "def evaluate_model(model, X, y, scoring, cv, n_jobs, n_splits=10, n_repeats=3, random_state=1, error_score='raise'):\n",
    "    \n",
    "    cv = RepeatedStratifiedKFold(n_splits=n_splits, n_repeats=n_repeats, random_state=random_state)\n",
    "    n_scores = cross_val_score(model, X, y, scoring=scoring, cv=cv, n_jobs=n_jobs, error_score=error_score)\n",
    "\n",
    "    return mean(n_scores), std(n_scores)\n",
    "\n",
    "def evaluate_model_complex(model, X, y, scoring, cv, n_jobs, n_splits=10, n_repeats=3, random_state=1):\n",
    "    cv = RepeatedStratifiedKFold(n_splits=n_splits, n_repeats=n_repeats, random_state=random_state)\n",
    "    scores = cross_val_score(model, X, y, scoring=scoring, cv=cv, n_jobs=n_jobs)\n",
    "\n",
    "    return scores"
   ]
  },
  {
   "cell_type": "code",
   "execution_count": null,
   "metadata": {},
   "outputs": [],
   "source": [
    "try:\n",
    "    raw = pd.read_csv(\"W:/Shared With Me/Gibraltar/OTHER/AI Crowd Competition/Data/training.csv\")\n",
    "except:\n",
    "    raw = pd.read_csv(\"C:/Users/Dev Work/Documents/aicrowd/insurancepricing/python/training.csv\")"
   ]
  },
  {
   "cell_type": "code",
   "execution_count": null,
   "metadata": {},
   "outputs": [],
   "source": [
    "data = raw.copy()\n",
    "data = tools.clean(data)\n",
    "data = data[data['year'] == 1]\n",
    "\n",
    "y = [1 if row > 0 else 0 for row in data['claim_amount']]\n",
    "\n",
    "exclude = ['claim_amount', 'id_policy', 'pol_coverage', 'pol_payd', 'pol_pay_freq', 'pol_usage', 'vh_fuel', 'vh_make_model', 'vh_type', 'drv_sex1', 'drv_drv2', 'drv_age2', 'drv_lic2', 'drv_sex2']\n",
    "x = data[data.columns.difference(exclude)]\n",
    "\n",
    "cv = RepeatedStratifiedKFold(n_splits=10, n_repeats=3, random_state=1)\n",
    "x_train, x_test, y_train, y_test = train_test_split(x, y)"
   ]
  },
  {
   "cell_type": "code",
   "execution_count": null,
   "metadata": {},
   "outputs": [],
   "source": [
    "n_trees = [10,50,100,500,1000,2000,5000]\n",
    "max_depth = [x for x in range(1,11)]\n",
    "learning_rate = [0.2, 0.4, 0.6,0.8,1]"
   ]
  },
  {
   "cell_type": "code",
   "execution_count": null,
   "metadata": {
    "tags": []
   },
   "outputs": [],
   "source": [
    "'''\n",
    "Warning, this cell will take a very, very long time to run without a decent PC.\n",
    "\n",
    "I'd recommend not running on laptops...\n",
    "\n",
    "'''\n",
    "\n",
    "results = {}\n",
    "\n",
    "names = list()\n",
    "\n",
    "start = time.time()\n",
    "\n",
    "for n in n_trees:\n",
    "    depths = {}\n",
    "    for i in max_depth:\n",
    "        results = {}\n",
    "        for r in learning_rate:\n",
    "            xg = XGBClassifier(n_estimators=n, max_depth=i, eta=r, eval_metric='logloss')\n",
    "            xg.fit(x_train, y_train)\n",
    "\n",
    "            scores = evaluate_model_complex(xg, x_test, y_test, 'accuracy', cv, -1)\n",
    "            \n",
    "            results[r] = {\"scores\":scores, \"model\":xg.copy()}\n",
    "\n",
    "        depths[i] = results.copy()\n",
    "    trees[n] = depths.copy()\n",
    "\n",
    "end = time.time()\n",
    "\n",
    "print(f\"Time Taken: {end-start}\")"
   ]
  },
  {
   "cell_type": "code",
   "execution_count": null,
   "metadata": {},
   "outputs": [],
   "source": [
    "rows = []\n",
    "\n",
    "for tree in trees:\n",
    "    for depth in trees[tree]:\n",
    "        for rate in trees[tree][depth]:\n",
    "            rows.append((tree, depth, rate, mean(trees[tree][depth][rate]['scores'])))\n",
    "\n",
    "graph_data = pd.DataFrame(rows, columns=['trees', 'depth', 'rate', 'mean'])\n"
   ]
  },
  {
   "cell_type": "code",
   "execution_count": null,
   "metadata": {},
   "outputs": [],
   "source": [
    "fig = plt.figure()\n",
    "ax = fig.add_subplot(111)\n",
    "ax.set_zscale='log'\n",
    "ax.set_xscale='log'\n",
    "ax.scatter(graph_data['trees'].astype(float), graph_data['depth'].astype(float), c=graph_data['mean'])"
   ]
  }
 ]
}