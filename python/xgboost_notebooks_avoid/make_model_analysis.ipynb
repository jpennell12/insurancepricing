{
 "metadata": {
  "language_info": {
   "codemirror_mode": {
    "name": "ipython",
    "version": 3
   },
   "file_extension": ".py",
   "mimetype": "text/x-python",
   "name": "python",
   "nbconvert_exporter": "python",
   "pygments_lexer": "ipython3",
   "version": "3.8.3-final"
  },
  "orig_nbformat": 2,
  "kernelspec": {
   "name": "python3",
   "display_name": "Python 3",
   "language": "python"
  }
 },
 "nbformat": 4,
 "nbformat_minor": 2,
 "cells": [
  {
   "cell_type": "code",
   "execution_count": 139,
   "metadata": {},
   "outputs": [],
   "source": [
    "import pandas as pd\n",
    "import pickle"
   ]
  },
  {
   "cell_type": "code",
   "execution_count": 94,
   "metadata": {},
   "outputs": [],
   "source": [
    "raw = pd.read_csv(r\"C:\\Users\\Dev Work\\Documents\\aicrowd\\insurancepricing\\python\\training.csv\")"
   ]
  },
  {
   "cell_type": "code",
   "execution_count": 107,
   "metadata": {},
   "outputs": [],
   "source": [
    "data = raw[[\"vh_make_model\", \"claim_amount\"]].copy()\n",
    "\n",
    "data['claim'] = [1 if x > 0 else 0 for x in data['claim_amount']]"
   ]
  },
  {
   "cell_type": "code",
   "execution_count": 121,
   "metadata": {},
   "outputs": [],
   "source": [
    "count = data.groupby(\"vh_make_model\")['vh_make_model'].count()\n",
    "claims = data.groupby(\"vh_make_model\")['claim'].max()\n",
    "avg_claim_cost = data.groupby(\"vh_make_model\")['claim_amount'].mean()\n",
    "sum_claim_cost = data.groupby(\"vh_make_model\")['claim_amount'].sum()\n",
    "claim_frequency = data.groupby(\"vh_make_model\")['claim'].sum()\n",
    "avg_frequency = (data.groupby(\"vh_make_model\")['vh_make_model'].count() / len(data)) * 100"
   ]
  },
  {
   "cell_type": "code",
   "execution_count": 123,
   "metadata": {},
   "outputs": [],
   "source": [
    "claims = [1 if claim > 0 else 0 for claim in claims]\n",
    "\n",
    "risk_data = pd.DataFrame({\"count\":count, \n",
    "                        \"frequency\":avg_frequency,\n",
    "                        \"claim_ind\": claims, \n",
    "                        \"sum_claim_cost\": sum_claim_cost,\n",
    "                        \"avg_claim_cost\": avg_claim_cost,  \n",
    "                        \"claim_frequency\": claim_frequency})\n",
    "\n",
    "risk_data['burn_cost'] = risk_data['sum_claim_cost'] / risk_data['count']"
   ]
  },
  {
   "cell_type": "code",
   "execution_count": 126,
   "metadata": {},
   "outputs": [
    {
     "output_type": "execute_result",
     "data": {
      "text/plain": [
       "count     975.000000\n",
       "mean       92.246201\n",
       "std       150.847998\n",
       "min         0.000000\n",
       "25%         0.000000\n",
       "50%        42.379167\n",
       "75%       131.344590\n",
       "max      2143.412500\n",
       "Name: burn_cost, dtype: float64"
      ]
     },
     "metadata": {},
     "execution_count": 126
    }
   ],
   "source": [
    "risk_data['burn_cost'].describe()"
   ]
  },
  {
   "cell_type": "code",
   "execution_count": 132,
   "metadata": {},
   "outputs": [],
   "source": [
    "risk_data_filtered = risk_data[risk_data[\"claim_ind\"] > 0 ]\n",
    "risk_data_clean_models = risk_data[risk_data[\"claim_ind\"] == 0 ]"
   ]
  },
  {
   "cell_type": "code",
   "execution_count": 140,
   "metadata": {},
   "outputs": [],
   "source": [
    "risk_data_filtered['burn_cost']\n",
    "\n",
    "with open('vh_burn_costs.pickle', 'wb') as target:\n",
    "        pickle.dump(risk_data_filtered['burn_cost'], target)"
   ]
  },
  {
   "cell_type": "code",
   "execution_count": 135,
   "metadata": {},
   "outputs": [
    {
     "output_type": "execute_result",
     "data": {
      "text/plain": [
       "count    364.0\n",
       "mean       0.0\n",
       "std        0.0\n",
       "min        0.0\n",
       "25%        0.0\n",
       "50%        0.0\n",
       "75%        0.0\n",
       "max        0.0\n",
       "Name: burn_cost, dtype: float64"
      ]
     },
     "metadata": {},
     "execution_count": 135
    }
   ],
   "source": [
    "risk_data_clean_models['burn_cost'].describe()"
   ]
  },
  {
   "cell_type": "code",
   "execution_count": null,
   "metadata": {},
   "outputs": [],
   "source": []
  },
  {
   "cell_type": "code",
   "execution_count": null,
   "metadata": {},
   "outputs": [],
   "source": []
  },
  {
   "cell_type": "code",
   "execution_count": null,
   "metadata": {},
   "outputs": [],
   "source": [
    "risk_rating = avg_claim_cost * (avg_frequency - avg_frequency.min())/(avg_frequency.max() - avg_frequency.min())\n",
    "risk_rating.describe()\n",
    "risk_rating.plot()"
   ]
  }
 ]
}