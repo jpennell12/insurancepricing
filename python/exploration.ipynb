{
 "cells": [
  {
   "source": [
    "# Insurance Pricing Game\n",
    "\n",
    "## 0. Setup"
   ],
   "cell_type": "markdown",
   "metadata": {}
  },
  {
   "cell_type": "code",
   "execution_count": 1,
   "metadata": {},
   "outputs": [],
   "source": [
    "import pandas as pd\n",
    "import numpy as np\n",
    "\n",
    "import matplotlib.pyplot as plt"
   ]
  },
  {
   "cell_type": "code",
   "execution_count": 2,
   "metadata": {},
   "outputs": [],
   "source": [
    "def get_claims_performance(data, by=None):\n",
    "\n",
    "    claims_columns = ['claim_amount']\n",
    "\n",
    "    for column in claims_columns:\n",
    "        if column not in data.columns:\n",
    "            raise KeyError(f\"Key data missing from dataframe: {column}\")\n",
    "    \n",
    "    if by is None:\n",
    "        raise TypeError(\"Argument not passed to 'by', or None passed instead\")\n",
    "\n",
    "    data_claims = data[data['claim_amount'] > 0]\n",
    "    \n",
    "    if by is not None:\n",
    "        data = data.groupby(by)\n",
    "        data_claims = data_claims.groupby(by)\n",
    "\n",
    "    policies = data['id_policy'].count()\n",
    "    incurred = data['claim_amount'].sum()\n",
    "    claim_count = data_claims['claim_amount'].count()\n",
    "    avg_claim_amount = data_claims['claim_amount'].mean().round(2)\n",
    "\n",
    "    data_grouped = pd.DataFrame({\"policies\": policies, \"incurred\": incurred, \"claim_count\":claim_count, \"avg_claim_amount\":avg_claim_amount})\n",
    "\n",
    "    data_grouped['frequency'] = (data_grouped['claim_count'] / data_grouped['policies']).round(2)\n",
    "    data_grouped['burn'] = (data_grouped['incurred'] / data_grouped['policies']).round(2)\n",
    "\n",
    "    return data_grouped"
   ]
  },
  {
   "cell_type": "code",
   "execution_count": 50,
   "metadata": {},
   "outputs": [],
   "source": [
    "def get_demographics(data, by=None):\n",
    "    def get_normalized_proportion(data, nominal, by=None, prefix=None):\n",
    "        \n",
    "        if prefix is None:\n",
    "            prefix = nominal\n",
    "\n",
    "        unique_list = data[nominal].unique()\n",
    "\n",
    "        if by is not None:    \n",
    "            data = data.groupby(by)    \n",
    "\n",
    "        prop = data[nominal].value_counts(normalize=True).unstack(nominal)\n",
    "        \n",
    "        for value in unique_list:\n",
    "            prop = prop.rename(columns={value:f\"{prefix}_{value}\"})\n",
    "        \n",
    "        return prop\n",
    "    def policy(data, by):\n",
    "        age_policy = data.groupby(by)['pol_duration'].mean().round(2)\n",
    "        staleness = data.groupby(by)['pol_sit_duration'].mean().round(2)\n",
    "        ncd = data.groupby(by)['pol_no_claims_discount'].mean().round(2)\n",
    "\n",
    "        usage = get_normalized_proportion(data, 'pol_usage', by=by)\n",
    "        pay_freq = get_normalized_proportion(data, 'pol_pay_freq', by=by)\n",
    "        payd = get_normalized_proportion(data, 'pol_payd', by=by)\n",
    "\n",
    "        data_policy = pd.DataFrame()\n",
    "        data_policy['avg_age_policy'] = age_policy\n",
    "        data_policy['avg_staleness_policy'] = staleness\n",
    "        data_policy['avg_ncd_policy'] = ncd\n",
    "\n",
    "        data_policy = data_policy.join(usage)\n",
    "        data_policy = data_policy.join(pay_freq)\n",
    "        data_policy = data_policy.join(payd)\n",
    "\n",
    "        return data_policy\n",
    "        \n",
    "\n",
    "    def passenger(data, by):\n",
    "        age_policyholder = data.groupby(by)['drv_age1'].mean().round(2)\n",
    "        age_additionaldriver = data.groupby(by)['drv_age2'].mean().round(2)\n",
    "        age_alldrivers = data[[by,'drv_age1']].append(data[[by, 'drv_age2']].rename(columns={\"drv_age2\":\"drv_age1\"})).groupby(by).mean().round(2)\n",
    "\n",
    "        data_passenger = pd.DataFrame()\n",
    "\n",
    "        data_passenger['avg_age_policyholder'] = age_policyholder\n",
    "        data_passenger['avg_age_additionaldriver'] = age_additionaldriver\n",
    "        data_passenger['avg_age_alldrivers'] = age_alldrivers\n",
    "\n",
    "        return data_passenger\n",
    "\n",
    "    def vehicle(data, by):\n",
    "\n",
    "        data_grouped = data.groupby(by)\n",
    "\n",
    "        age_vehicle = data_grouped['vh_age'].mean().round(2)\n",
    "        speed_vehicle = data_grouped['vh_speed'].mean().round(2)\n",
    "        fuel_vehicle = get_normalized_proportion(data, 'vh_fuel', by=by)\n",
    "\n",
    "        data_vehicle = pd.DataFrame()\n",
    "\n",
    "        data_vehicle['avg_age_vh'] = age_vehicle\n",
    "        data_vehicle['avg_speed_vh'] = speed_vehicle\n",
    "\n",
    "        data_vehicle = data_vehicle.join(fuel_vehicle)\n",
    "\n",
    "        return data_vehicle\n",
    "\n",
    "    demo_passenger = passenger(data, by)\n",
    "    demo_vehicle = vehicle(data, by)\n",
    "    demo_policy = policy(data, by)\n",
    "    \n",
    "    df = demo_policy\n",
    "    df = df.join(demo_passenger)\n",
    "    df = df.join(demo_vehicle)    \n",
    "    return df"
   ]
  },
  {
   "cell_type": "code",
   "execution_count": 46,
   "metadata": {},
   "outputs": [],
   "source": [
    "def get_everything(data, by):\n",
    "    d = get_demographics(data, by=by)\n",
    "    c = get_claims_performance(data, by=by)\n",
    "\n",
    "    df = c.join(d)\n",
    "\n",
    "    return df"
   ]
  },
  {
   "source": [
    "## 1. Loading and Preprocessing of Data"
   ],
   "cell_type": "markdown",
   "metadata": {}
  },
  {
   "cell_type": "code",
   "execution_count": 4,
   "metadata": {},
   "outputs": [],
   "source": [
    "raw = pd.read_csv(\"W:/Shared With Me/Gibraltar/OTHER/AI Crowd Competition/Data/training.csv\")"
   ]
  },
  {
   "cell_type": "code",
   "execution_count": 8,
   "metadata": {},
   "outputs": [],
   "source": [
    "data = raw.copy()"
   ]
  },
  {
   "source": [
    "## 2. Claims Exploration\n",
    "\n",
    "Important takeaways so far...\n",
    "\n",
    "1. No data on what the customer paid for their policy.\n",
    "2. Book is performing better each year, ensure model doesn't do anything to reverse mix changes.\n",
    "3. Policyholders (all drivers...) are getting older over the years, as are their vehicles. Not capturing young drivers at same rate.\n",
    "4. pol_usage, pol_payd, vh_make_model, vh_type, vh_value, vh_speed, vh_fuel, vh_weight proportions do not change over years"
   ],
   "cell_type": "markdown",
   "metadata": {}
  },
  {
   "cell_type": "code",
   "execution_count": 160,
   "metadata": {},
   "outputs": [
    {
     "output_type": "stream",
     "name": "stdout",
     "text": [
      "Number of Policies: 228216\nNumber of Policies Claim Free: 204924\nNumber of Policies with Claim: 23292\nOverall Frequency: 10.2%\nTotal Incurred: EUR 26057988.08 \nCrude burn cost: EUR 114.18 \n"
     ]
    }
   ],
   "source": [
    "print(f\"Number of Policies: {len(data)}\")\n",
    "print(f\"Number of Policies Claim Free: {len(data[data['claim_amount'] == 0])}\")\n",
    "print(f\"Number of Policies with Claim: {len(data[data['claim_amount'] != 0])}\")\n",
    "print(f\"Overall Frequency: { round(len(data[data['claim_amount'] != 0]) / len(data),3) * 100 }%\")\n",
    "print(f\"Total Incurred: EUR { round(sum(data['claim_amount']),2) } \")\n",
    "\n",
    "burn_crude = sum(data['claim_amount']) / len(data)\n",
    "print(f\"Crude burn cost: EUR { round(burn_crude, 2) } \")"
   ]
  },
  {
   "cell_type": "code",
   "execution_count": 204,
   "metadata": {},
   "outputs": [
    {
     "output_type": "execute_result",
     "data": {
      "text/plain": [
       "      policies    incurred  claim_count  avg_claim_amount  frequency    burn\n",
       "year                                                                        \n",
       "1        57054  6806453.23         6280           1083.83       0.11  119.30\n",
       "2        57054  6788036.71         6030           1125.71       0.11  118.98\n",
       "3        57054  6404289.79         5747           1114.37       0.10  112.25\n",
       "4        57054  6059208.35         5235           1157.44       0.09  106.20"
      ],
      "text/html": "<div>\n<style scoped>\n    .dataframe tbody tr th:only-of-type {\n        vertical-align: middle;\n    }\n\n    .dataframe tbody tr th {\n        vertical-align: top;\n    }\n\n    .dataframe thead th {\n        text-align: right;\n    }\n</style>\n<table border=\"1\" class=\"dataframe\">\n  <thead>\n    <tr style=\"text-align: right;\">\n      <th></th>\n      <th>policies</th>\n      <th>incurred</th>\n      <th>claim_count</th>\n      <th>avg_claim_amount</th>\n      <th>frequency</th>\n      <th>burn</th>\n    </tr>\n    <tr>\n      <th>year</th>\n      <th></th>\n      <th></th>\n      <th></th>\n      <th></th>\n      <th></th>\n      <th></th>\n    </tr>\n  </thead>\n  <tbody>\n    <tr>\n      <th>1</th>\n      <td>57054</td>\n      <td>6806453.23</td>\n      <td>6280</td>\n      <td>1083.83</td>\n      <td>0.11</td>\n      <td>119.30</td>\n    </tr>\n    <tr>\n      <th>2</th>\n      <td>57054</td>\n      <td>6788036.71</td>\n      <td>6030</td>\n      <td>1125.71</td>\n      <td>0.11</td>\n      <td>118.98</td>\n    </tr>\n    <tr>\n      <th>3</th>\n      <td>57054</td>\n      <td>6404289.79</td>\n      <td>5747</td>\n      <td>1114.37</td>\n      <td>0.10</td>\n      <td>112.25</td>\n    </tr>\n    <tr>\n      <th>4</th>\n      <td>57054</td>\n      <td>6059208.35</td>\n      <td>5235</td>\n      <td>1157.44</td>\n      <td>0.09</td>\n      <td>106.20</td>\n    </tr>\n  </tbody>\n</table>\n</div>"
     },
     "metadata": {},
     "execution_count": 204
    }
   ],
   "source": [
    "data_yearly = get_claims_performance(data, 'year')\n",
    "data_yearly"
   ]
  },
  {
   "cell_type": "code",
   "execution_count": 186,
   "metadata": {},
   "outputs": [
    {
     "output_type": "execute_result",
     "data": {
      "text/plain": [
       "              policies     incurred  claim_count  avg_claim_amount  frequency  \\\n",
       "pol_usage                                                                       \n",
       "AllTrips           208     72317.31           45           1607.05       0.22   \n",
       "Professional     16044   2637423.97         2227           1184.29       0.14   \n",
       "Retired          61988   6875031.45         5836           1178.04       0.09   \n",
       "WorkPrivate     149976  16473215.35        15184           1084.91       0.10   \n",
       "\n",
       "                burn  \n",
       "pol_usage             \n",
       "AllTrips      347.68  \n",
       "Professional  164.39  \n",
       "Retired       110.91  \n",
       "WorkPrivate   109.84  "
      ],
      "text/html": "<div>\n<style scoped>\n    .dataframe tbody tr th:only-of-type {\n        vertical-align: middle;\n    }\n\n    .dataframe tbody tr th {\n        vertical-align: top;\n    }\n\n    .dataframe thead th {\n        text-align: right;\n    }\n</style>\n<table border=\"1\" class=\"dataframe\">\n  <thead>\n    <tr style=\"text-align: right;\">\n      <th></th>\n      <th>policies</th>\n      <th>incurred</th>\n      <th>claim_count</th>\n      <th>avg_claim_amount</th>\n      <th>frequency</th>\n      <th>burn</th>\n    </tr>\n    <tr>\n      <th>pol_usage</th>\n      <th></th>\n      <th></th>\n      <th></th>\n      <th></th>\n      <th></th>\n      <th></th>\n    </tr>\n  </thead>\n  <tbody>\n    <tr>\n      <th>AllTrips</th>\n      <td>208</td>\n      <td>72317.31</td>\n      <td>45</td>\n      <td>1607.05</td>\n      <td>0.22</td>\n      <td>347.68</td>\n    </tr>\n    <tr>\n      <th>Professional</th>\n      <td>16044</td>\n      <td>2637423.97</td>\n      <td>2227</td>\n      <td>1184.29</td>\n      <td>0.14</td>\n      <td>164.39</td>\n    </tr>\n    <tr>\n      <th>Retired</th>\n      <td>61988</td>\n      <td>6875031.45</td>\n      <td>5836</td>\n      <td>1178.04</td>\n      <td>0.09</td>\n      <td>110.91</td>\n    </tr>\n    <tr>\n      <th>WorkPrivate</th>\n      <td>149976</td>\n      <td>16473215.35</td>\n      <td>15184</td>\n      <td>1084.91</td>\n      <td>0.10</td>\n      <td>109.84</td>\n    </tr>\n  </tbody>\n</table>\n</div>"
     },
     "metadata": {},
     "execution_count": 186
    }
   ],
   "source": [
    "data_usage = get_claims_performance(data, 'pol_usage')\n",
    "data_usage"
   ]
  },
  {
   "cell_type": "code",
   "execution_count": 34,
   "metadata": {},
   "outputs": [
    {
     "output_type": "execute_result",
     "data": {
      "text/plain": "              avg_age_policyholder  avg_age_additionaldriver  \\\npol_usage                                                      \nAllTrips                     55.19                     37.25   \nProfessional                 52.98                     44.71   \nRetired                      72.96                     65.37   \nWorkPrivate                  49.83                     43.54   \n\n              avg_age_alldrivers  avg_age_vh  avg_speed_vh  vh_fuel_Diesel  \\\npol_usage                                                                    \nAllTrips                   50.97        7.48        171.96        0.826923   \nProfessional               51.22        9.80        163.06        0.708053   \nRetired                    71.32       11.40        170.92        0.471511   \nWorkPrivate                48.17       11.18        171.79        0.554622   \n\n              vh_fuel_Gasoline  vh_fuel_Hybrid  \npol_usage                                       \nAllTrips              0.173077             NaN  \nProfessional          0.289205        0.002742  \nRetired               0.527392        0.001097  \nWorkPrivate           0.444764        0.000613  ",
      "text/html": "<div>\n<style scoped>\n    .dataframe tbody tr th:only-of-type {\n        vertical-align: middle;\n    }\n\n    .dataframe tbody tr th {\n        vertical-align: top;\n    }\n\n    .dataframe thead th {\n        text-align: right;\n    }\n</style>\n<table border=\"1\" class=\"dataframe\">\n  <thead>\n    <tr style=\"text-align: right;\">\n      <th></th>\n      <th>avg_age_policyholder</th>\n      <th>avg_age_additionaldriver</th>\n      <th>avg_age_alldrivers</th>\n      <th>avg_age_vh</th>\n      <th>avg_speed_vh</th>\n      <th>vh_fuel_Diesel</th>\n      <th>vh_fuel_Gasoline</th>\n      <th>vh_fuel_Hybrid</th>\n    </tr>\n    <tr>\n      <th>pol_usage</th>\n      <th></th>\n      <th></th>\n      <th></th>\n      <th></th>\n      <th></th>\n      <th></th>\n      <th></th>\n      <th></th>\n    </tr>\n  </thead>\n  <tbody>\n    <tr>\n      <th>AllTrips</th>\n      <td>55.19</td>\n      <td>37.25</td>\n      <td>50.97</td>\n      <td>7.48</td>\n      <td>171.96</td>\n      <td>0.826923</td>\n      <td>0.173077</td>\n      <td>NaN</td>\n    </tr>\n    <tr>\n      <th>Professional</th>\n      <td>52.98</td>\n      <td>44.71</td>\n      <td>51.22</td>\n      <td>9.80</td>\n      <td>163.06</td>\n      <td>0.708053</td>\n      <td>0.289205</td>\n      <td>0.002742</td>\n    </tr>\n    <tr>\n      <th>Retired</th>\n      <td>72.96</td>\n      <td>65.37</td>\n      <td>71.32</td>\n      <td>11.40</td>\n      <td>170.92</td>\n      <td>0.471511</td>\n      <td>0.527392</td>\n      <td>0.001097</td>\n    </tr>\n    <tr>\n      <th>WorkPrivate</th>\n      <td>49.83</td>\n      <td>43.54</td>\n      <td>48.17</td>\n      <td>11.18</td>\n      <td>171.79</td>\n      <td>0.554622</td>\n      <td>0.444764</td>\n      <td>0.000613</td>\n    </tr>\n  </tbody>\n</table>\n</div>"
     },
     "metadata": {},
     "execution_count": 34
    }
   ],
   "source": [
    "get_demographics(data, 'pol_usage')"
   ]
  },
  {
   "cell_type": "code",
   "execution_count": 51,
   "metadata": {},
   "outputs": [
    {
     "output_type": "execute_result",
     "data": {
      "text/plain": "      policies    incurred  claim_count  avg_claim_amount  frequency    burn  \\\nyear                                                                           \n1.0      57054  6806453.23         6280           1083.83       0.11  119.30   \n2.0      57054  6788036.71         6030           1125.71       0.11  118.98   \n3.0      57054  6404289.79         5747           1114.37       0.10  112.25   \n4.0      57054  6059208.35         5235           1157.44       0.09  106.20   \n\n      avg_age_policy  avg_staleness_policy  avg_ncd_policy  \\\nyear                                                         \n1.0            11.11                  2.75            0.05   \n2.0            12.11                  3.75            0.05   \n3.0            13.11                  4.75            0.04   \n4.0            14.11                  5.75            0.04   \n\n      pol_usage_AllTrips  ...  pol_payd_No  pol_payd_Yes  \\\nyear                      ...                              \n1.0             0.000911  ...     0.958285      0.041715   \n2.0             0.000911  ...     0.958285      0.041715   \n3.0             0.000911  ...     0.958285      0.041715   \n4.0             0.000911  ...     0.958285      0.041715   \n\n      avg_age_policyholder  avg_age_additionaldriver  avg_age_alldrivers  \\\nyear                                                                       \n1.0                  54.84                     47.07               52.91   \n2.0                  55.84                     48.07               53.91   \n3.0                  56.84                     49.07               54.91   \n4.0                  57.84                     50.07               55.91   \n\n      avg_age_vh  avg_speed_vh  vh_fuel_Diesel  vh_fuel_Gasoline  \\\nyear                                                               \n1.0         9.64        170.95        0.543082          0.456024   \n2.0        10.64        170.95        0.543082          0.456024   \n3.0        11.64        170.95        0.543082          0.456024   \n4.0        12.64        170.95        0.543082          0.456024   \n\n      vh_fuel_Hybrid  \nyear                  \n1.0         0.000894  \n2.0         0.000894  \n3.0         0.000894  \n4.0         0.000894  \n\n[4 rows x 27 columns]",
      "text/html": "<div>\n<style scoped>\n    .dataframe tbody tr th:only-of-type {\n        vertical-align: middle;\n    }\n\n    .dataframe tbody tr th {\n        vertical-align: top;\n    }\n\n    .dataframe thead th {\n        text-align: right;\n    }\n</style>\n<table border=\"1\" class=\"dataframe\">\n  <thead>\n    <tr style=\"text-align: right;\">\n      <th></th>\n      <th>policies</th>\n      <th>incurred</th>\n      <th>claim_count</th>\n      <th>avg_claim_amount</th>\n      <th>frequency</th>\n      <th>burn</th>\n      <th>avg_age_policy</th>\n      <th>avg_staleness_policy</th>\n      <th>avg_ncd_policy</th>\n      <th>pol_usage_AllTrips</th>\n      <th>...</th>\n      <th>pol_payd_No</th>\n      <th>pol_payd_Yes</th>\n      <th>avg_age_policyholder</th>\n      <th>avg_age_additionaldriver</th>\n      <th>avg_age_alldrivers</th>\n      <th>avg_age_vh</th>\n      <th>avg_speed_vh</th>\n      <th>vh_fuel_Diesel</th>\n      <th>vh_fuel_Gasoline</th>\n      <th>vh_fuel_Hybrid</th>\n    </tr>\n    <tr>\n      <th>year</th>\n      <th></th>\n      <th></th>\n      <th></th>\n      <th></th>\n      <th></th>\n      <th></th>\n      <th></th>\n      <th></th>\n      <th></th>\n      <th></th>\n      <th></th>\n      <th></th>\n      <th></th>\n      <th></th>\n      <th></th>\n      <th></th>\n      <th></th>\n      <th></th>\n      <th></th>\n      <th></th>\n      <th></th>\n    </tr>\n  </thead>\n  <tbody>\n    <tr>\n      <th>1.0</th>\n      <td>57054</td>\n      <td>6806453.23</td>\n      <td>6280</td>\n      <td>1083.83</td>\n      <td>0.11</td>\n      <td>119.30</td>\n      <td>11.11</td>\n      <td>2.75</td>\n      <td>0.05</td>\n      <td>0.000911</td>\n      <td>...</td>\n      <td>0.958285</td>\n      <td>0.041715</td>\n      <td>54.84</td>\n      <td>47.07</td>\n      <td>52.91</td>\n      <td>9.64</td>\n      <td>170.95</td>\n      <td>0.543082</td>\n      <td>0.456024</td>\n      <td>0.000894</td>\n    </tr>\n    <tr>\n      <th>2.0</th>\n      <td>57054</td>\n      <td>6788036.71</td>\n      <td>6030</td>\n      <td>1125.71</td>\n      <td>0.11</td>\n      <td>118.98</td>\n      <td>12.11</td>\n      <td>3.75</td>\n      <td>0.05</td>\n      <td>0.000911</td>\n      <td>...</td>\n      <td>0.958285</td>\n      <td>0.041715</td>\n      <td>55.84</td>\n      <td>48.07</td>\n      <td>53.91</td>\n      <td>10.64</td>\n      <td>170.95</td>\n      <td>0.543082</td>\n      <td>0.456024</td>\n      <td>0.000894</td>\n    </tr>\n    <tr>\n      <th>3.0</th>\n      <td>57054</td>\n      <td>6404289.79</td>\n      <td>5747</td>\n      <td>1114.37</td>\n      <td>0.10</td>\n      <td>112.25</td>\n      <td>13.11</td>\n      <td>4.75</td>\n      <td>0.04</td>\n      <td>0.000911</td>\n      <td>...</td>\n      <td>0.958285</td>\n      <td>0.041715</td>\n      <td>56.84</td>\n      <td>49.07</td>\n      <td>54.91</td>\n      <td>11.64</td>\n      <td>170.95</td>\n      <td>0.543082</td>\n      <td>0.456024</td>\n      <td>0.000894</td>\n    </tr>\n    <tr>\n      <th>4.0</th>\n      <td>57054</td>\n      <td>6059208.35</td>\n      <td>5235</td>\n      <td>1157.44</td>\n      <td>0.09</td>\n      <td>106.20</td>\n      <td>14.11</td>\n      <td>5.75</td>\n      <td>0.04</td>\n      <td>0.000911</td>\n      <td>...</td>\n      <td>0.958285</td>\n      <td>0.041715</td>\n      <td>57.84</td>\n      <td>50.07</td>\n      <td>55.91</td>\n      <td>12.64</td>\n      <td>170.95</td>\n      <td>0.543082</td>\n      <td>0.456024</td>\n      <td>0.000894</td>\n    </tr>\n  </tbody>\n</table>\n<p>4 rows × 27 columns</p>\n</div>"
     },
     "metadata": {},
     "execution_count": 51
    }
   ],
   "source": [
    "get_everything(data, 'year')"
   ]
  },
  {
   "cell_type": "code",
   "execution_count": null,
   "metadata": {},
   "outputs": [],
   "source": []
  }
 ],
 "metadata": {
  "language_info": {
   "codemirror_mode": {
    "name": "ipython",
    "version": 3
   },
   "file_extension": ".py",
   "mimetype": "text/x-python",
   "name": "python",
   "nbconvert_exporter": "python",
   "pygments_lexer": "ipython3",
   "version": "3.8.3-final"
  },
  "orig_nbformat": 2,
  "kernelspec": {
   "name": "python3",
   "display_name": "Python 3",
   "language": "python"
  }
 },
 "nbformat": 4,
 "nbformat_minor": 2
}