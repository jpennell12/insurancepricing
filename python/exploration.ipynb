{
 "cells": [
  {
   "source": [
    "# Insurance Pricing Game\n",
    "\n",
    "## 0. Setup"
   ],
   "cell_type": "markdown",
   "metadata": {}
  },
  {
   "cell_type": "code",
   "execution_count": 1,
   "metadata": {},
   "outputs": [],
   "source": [
    "import pandas as pd\n",
    "import numpy as np\n",
    "\n",
    "import matplotlib.pyplot as plt"
   ]
  },
  {
   "cell_type": "code",
   "execution_count": 2,
   "metadata": {},
   "outputs": [],
   "source": [
    "def get_claims_performance(data, by=None):\n",
    "\n",
    "    claims_columns = ['claim_amount']\n",
    "\n",
    "    for column in claims_columns:\n",
    "        if column not in data.columns:\n",
    "            raise KeyError(f\"Key data missing from dataframe: {column}\")\n",
    "    \n",
    "    if by is None:\n",
    "        raise TypeError(\"Argument not passed to 'by', or None passed instead\")\n",
    "\n",
    "    data_claims = data[data['claim_amount'] > 0]\n",
    "    \n",
    "    if by is not None:\n",
    "        data = data.groupby(by)\n",
    "        data_claims = data_claims.groupby(by)\n",
    "\n",
    "    policies = data['id_policy'].count()\n",
    "    incurred = data['claim_amount'].sum()\n",
    "    claim_count = data_claims['claim_amount'].count()\n",
    "    avg_claim_amount = data_claims['claim_amount'].mean().round(2)\n",
    "\n",
    "    data_grouped = pd.DataFrame({\"policies\": policies, \"incurred\": incurred, \"claim_count\":claim_count, \"avg_claim_amount\":avg_claim_amount})\n",
    "\n",
    "    data_grouped['frequency'] = (data_grouped['claim_count'] / data_grouped['policies']).round(2)\n",
    "    data_grouped['burn'] = (data_grouped['incurred'] / data_grouped['policies']).round(2)\n",
    "\n",
    "    return data_grouped"
   ]
  },
  {
   "cell_type": "code",
   "execution_count": 188,
   "metadata": {},
   "outputs": [],
   "source": [
    "def get_policy_demographics(data, by=None):\n",
    "    def get_normalized_proportion(data, nominal):\n",
    "        \n",
    "        unique_values = data[nominal].unique()\n",
    "\n",
    "        df = pd.DataFrame()\n",
    "\n",
    "        for value in unique_values:\n",
    "            df[f\"{nominal}_{value}_prop\"] = data.groupby(nominal).value_counts(normalize=True)\n",
    "        \n",
    "        return df\n",
    "\n",
    "    def passenger(data, by):\n",
    "        age_additionaldriver = data.groupby(by)['drv_age2'].mean().round(2)\n",
    "        age_alldrivers = data[[by,'drv_age1']].append(data[[by, 'drv_age2']].rename(columns={\"drv_age2\":\"drv_age1\"})).groupby(by).mean().round(2)\n",
    "\n",
    "        data_passenger['avg_age_policyholder'] = age_policyholder\n",
    "        data_passenger['avg_age_additionaldriver'] = age_additionaldriver\n",
    "        data_passenger['avg_age_alldrivers'] = age_alldrivers\n",
    "\n",
    "        return data_passenger\n",
    "\n",
    "    def vehicle(data, by):\n",
    "\n",
    "        data_grouped = data.groupby(by)\n",
    "\n",
    "        age_vehicle = data_grouped['vh_age'].mean().round(2)\n",
    "\n",
    "        data_vehicle['avg_age_vh'] = age_vehicle\n",
    "\n",
    "        return data_vehicle\n",
    "\n",
    "    demo_passenger = passenger(data, by)\n",
    "    demo_vehicle = vehicle(data, by)\n",
    "    \n",
    "    return None"
   ]
  },
  {
   "source": [
    "## 1. Loading and Preprocessing of Data"
   ],
   "cell_type": "markdown",
   "metadata": {}
  },
  {
   "cell_type": "code",
   "execution_count": 2,
   "metadata": {},
   "outputs": [],
   "source": [
    "raw = pd.read_csv(\"C:/Users/Dev Work/Documents/aicrowd/insurance/insurance-pricing-game-starter-kit/training.csv\")"
   ]
  },
  {
   "cell_type": "code",
   "execution_count": 3,
   "metadata": {},
   "outputs": [],
   "source": [
    "data = raw.copy()"
   ]
  },
  {
   "source": [
    "## 2. Claims Exploration\n",
    "\n",
    "Important takeaways so far...\n",
    "\n",
    "1. No data on what the customer paid for their policy.\n",
    "2. Book is performing better each year, ensure model doesn't do anything to reverse mix changes.\n",
    "3. Policyholders (all drivers...) are getting older over the years, as are their vehicles. Not capturing young drivers at same rate.\n",
    "4. pol_usage, pol_payd, vh_make_model, vh_type, vh_value, vh_speed, vh_fuel, vh_weight proportions do not change over years"
   ],
   "cell_type": "markdown",
   "metadata": {}
  },
  {
   "cell_type": "code",
   "execution_count": 160,
   "metadata": {},
   "outputs": [
    {
     "output_type": "stream",
     "name": "stdout",
     "text": [
      "Number of Policies: 228216\nNumber of Policies Claim Free: 204924\nNumber of Policies with Claim: 23292\nOverall Frequency: 10.2%\nTotal Incurred: EUR 26057988.08 \nCrude burn cost: EUR 114.18 \n"
     ]
    }
   ],
   "source": [
    "print(f\"Number of Policies: {len(data)}\")\n",
    "print(f\"Number of Policies Claim Free: {len(data[data['claim_amount'] == 0])}\")\n",
    "print(f\"Number of Policies with Claim: {len(data[data['claim_amount'] != 0])}\")\n",
    "print(f\"Overall Frequency: { round(len(data[data['claim_amount'] != 0]) / len(data),3) * 100 }%\")\n",
    "print(f\"Total Incurred: EUR { round(sum(data['claim_amount']),2) } \")\n",
    "\n",
    "burn_crude = sum(data['claim_amount']) / len(data)\n",
    "print(f\"Crude burn cost: EUR { round(burn_crude, 2) } \")"
   ]
  },
  {
   "cell_type": "code",
   "execution_count": 204,
   "metadata": {},
   "outputs": [
    {
     "output_type": "execute_result",
     "data": {
      "text/plain": [
       "      policies    incurred  claim_count  avg_claim_amount  frequency    burn\n",
       "year                                                                        \n",
       "1        57054  6806453.23         6280           1083.83       0.11  119.30\n",
       "2        57054  6788036.71         6030           1125.71       0.11  118.98\n",
       "3        57054  6404289.79         5747           1114.37       0.10  112.25\n",
       "4        57054  6059208.35         5235           1157.44       0.09  106.20"
      ],
      "text/html": "<div>\n<style scoped>\n    .dataframe tbody tr th:only-of-type {\n        vertical-align: middle;\n    }\n\n    .dataframe tbody tr th {\n        vertical-align: top;\n    }\n\n    .dataframe thead th {\n        text-align: right;\n    }\n</style>\n<table border=\"1\" class=\"dataframe\">\n  <thead>\n    <tr style=\"text-align: right;\">\n      <th></th>\n      <th>policies</th>\n      <th>incurred</th>\n      <th>claim_count</th>\n      <th>avg_claim_amount</th>\n      <th>frequency</th>\n      <th>burn</th>\n    </tr>\n    <tr>\n      <th>year</th>\n      <th></th>\n      <th></th>\n      <th></th>\n      <th></th>\n      <th></th>\n      <th></th>\n    </tr>\n  </thead>\n  <tbody>\n    <tr>\n      <th>1</th>\n      <td>57054</td>\n      <td>6806453.23</td>\n      <td>6280</td>\n      <td>1083.83</td>\n      <td>0.11</td>\n      <td>119.30</td>\n    </tr>\n    <tr>\n      <th>2</th>\n      <td>57054</td>\n      <td>6788036.71</td>\n      <td>6030</td>\n      <td>1125.71</td>\n      <td>0.11</td>\n      <td>118.98</td>\n    </tr>\n    <tr>\n      <th>3</th>\n      <td>57054</td>\n      <td>6404289.79</td>\n      <td>5747</td>\n      <td>1114.37</td>\n      <td>0.10</td>\n      <td>112.25</td>\n    </tr>\n    <tr>\n      <th>4</th>\n      <td>57054</td>\n      <td>6059208.35</td>\n      <td>5235</td>\n      <td>1157.44</td>\n      <td>0.09</td>\n      <td>106.20</td>\n    </tr>\n  </tbody>\n</table>\n</div>"
     },
     "metadata": {},
     "execution_count": 204
    }
   ],
   "source": [
    "data_yearly = get_claims_performance(data, 'year')\n",
    "data_yearly"
   ]
  },
  {
   "cell_type": "code",
   "execution_count": 186,
   "metadata": {},
   "outputs": [
    {
     "output_type": "execute_result",
     "data": {
      "text/plain": [
       "              policies     incurred  claim_count  avg_claim_amount  frequency  \\\n",
       "pol_usage                                                                       \n",
       "AllTrips           208     72317.31           45           1607.05       0.22   \n",
       "Professional     16044   2637423.97         2227           1184.29       0.14   \n",
       "Retired          61988   6875031.45         5836           1178.04       0.09   \n",
       "WorkPrivate     149976  16473215.35        15184           1084.91       0.10   \n",
       "\n",
       "                burn  \n",
       "pol_usage             \n",
       "AllTrips      347.68  \n",
       "Professional  164.39  \n",
       "Retired       110.91  \n",
       "WorkPrivate   109.84  "
      ],
      "text/html": "<div>\n<style scoped>\n    .dataframe tbody tr th:only-of-type {\n        vertical-align: middle;\n    }\n\n    .dataframe tbody tr th {\n        vertical-align: top;\n    }\n\n    .dataframe thead th {\n        text-align: right;\n    }\n</style>\n<table border=\"1\" class=\"dataframe\">\n  <thead>\n    <tr style=\"text-align: right;\">\n      <th></th>\n      <th>policies</th>\n      <th>incurred</th>\n      <th>claim_count</th>\n      <th>avg_claim_amount</th>\n      <th>frequency</th>\n      <th>burn</th>\n    </tr>\n    <tr>\n      <th>pol_usage</th>\n      <th></th>\n      <th></th>\n      <th></th>\n      <th></th>\n      <th></th>\n      <th></th>\n    </tr>\n  </thead>\n  <tbody>\n    <tr>\n      <th>AllTrips</th>\n      <td>208</td>\n      <td>72317.31</td>\n      <td>45</td>\n      <td>1607.05</td>\n      <td>0.22</td>\n      <td>347.68</td>\n    </tr>\n    <tr>\n      <th>Professional</th>\n      <td>16044</td>\n      <td>2637423.97</td>\n      <td>2227</td>\n      <td>1184.29</td>\n      <td>0.14</td>\n      <td>164.39</td>\n    </tr>\n    <tr>\n      <th>Retired</th>\n      <td>61988</td>\n      <td>6875031.45</td>\n      <td>5836</td>\n      <td>1178.04</td>\n      <td>0.09</td>\n      <td>110.91</td>\n    </tr>\n    <tr>\n      <th>WorkPrivate</th>\n      <td>149976</td>\n      <td>16473215.35</td>\n      <td>15184</td>\n      <td>1084.91</td>\n      <td>0.10</td>\n      <td>109.84</td>\n    </tr>\n  </tbody>\n</table>\n</div>"
     },
     "metadata": {},
     "execution_count": 186
    }
   ],
   "source": [
    "data_usage = get_claims_performance(data, 'pol_usage')\n",
    "data_usage"
   ]
  },
  {
   "cell_type": "code",
   "execution_count": 203,
   "metadata": {},
   "outputs": [
    {
     "output_type": "stream",
     "name": "stdout",
     "text": [
      "('AllTrips', 'Tourism')\n('AllTrips', 'Commercial')\n('Professional', 'Tourism')\n('Professional', 'Commercial')\n('Retired', 'Tourism')\n('Retired', 'Commercial')\n('WorkPrivate', 'Tourism')\n('WorkPrivate', 'Commercial')\n"
     ]
    }
   ],
   "source": [
    "x = data.groupby('pol_usage')['vh_type'].value_counts()\n",
    "\n",
    "for key in x.index:\n",
    "    print(key)"
   ]
  },
  {
   "cell_type": "code",
   "execution_count": 205,
   "metadata": {},
   "outputs": [
    {
     "output_type": "execute_result",
     "data": {
      "text/plain": [
       "pol_usage     vh_fuel \n",
       "AllTrips      Diesel        172\n",
       "              Gasoline       36\n",
       "Professional  Diesel      11360\n",
       "              Gasoline     4640\n",
       "              Hybrid         44\n",
       "Retired       Gasoline    32692\n",
       "              Diesel      29228\n",
       "              Hybrid         68\n",
       "WorkPrivate   Diesel      83180\n",
       "              Gasoline    66704\n",
       "              Hybrid         92\n",
       "Name: vh_fuel, dtype: int64"
      ]
     },
     "metadata": {},
     "execution_count": 205
    }
   ],
   "source": [
    "data.groupby('pol_usage')['vh_fuel'].value_counts()"
   ]
  },
  {
   "cell_type": "code",
   "execution_count": 208,
   "metadata": {},
   "outputs": [
    {
     "output_type": "stream",
     "name": "stdout",
     "text": [
      "WorkPrivate\nRetired\nProfessional\nAllTrips\n"
     ]
    }
   ],
   "source": [
    "for x in data['pol_usage'].unique():\n",
    "    print(x)"
   ]
  },
  {
   "cell_type": "code",
   "execution_count": 216,
   "metadata": {},
   "outputs": [],
   "source": [
    "def get_normalized_proportion(data, nominal):\n",
    "        \n",
    "        unique_values = data[nominal].unique()\n",
    "\n",
    "        df = pd.DataFrame()\n",
    "\n",
    "        for value in unique_values:\n",
    "            df[f\"{nominal}_{value}_prop\"] = data[nominal].value_counts(normalize=True)\n",
    "        \n",
    "        return df"
   ]
  },
  {
   "cell_type": "code",
   "execution_count": 217,
   "metadata": {},
   "outputs": [
    {
     "output_type": "execute_result",
     "data": {
      "text/plain": [
       "              pol_usage_WorkPrivate_prop  pol_usage_Retired_prop  \\\n",
       "WorkPrivate                     0.657167                0.657167   \n",
       "Retired                         0.271620                0.271620   \n",
       "Professional                    0.070302                0.070302   \n",
       "AllTrips                        0.000911                0.000911   \n",
       "\n",
       "              pol_usage_Professional_prop  pol_usage_AllTrips_prop  \n",
       "WorkPrivate                      0.657167                 0.657167  \n",
       "Retired                          0.271620                 0.271620  \n",
       "Professional                     0.070302                 0.070302  \n",
       "AllTrips                         0.000911                 0.000911  "
      ],
      "text/html": "<div>\n<style scoped>\n    .dataframe tbody tr th:only-of-type {\n        vertical-align: middle;\n    }\n\n    .dataframe tbody tr th {\n        vertical-align: top;\n    }\n\n    .dataframe thead th {\n        text-align: right;\n    }\n</style>\n<table border=\"1\" class=\"dataframe\">\n  <thead>\n    <tr style=\"text-align: right;\">\n      <th></th>\n      <th>pol_usage_WorkPrivate_prop</th>\n      <th>pol_usage_Retired_prop</th>\n      <th>pol_usage_Professional_prop</th>\n      <th>pol_usage_AllTrips_prop</th>\n    </tr>\n  </thead>\n  <tbody>\n    <tr>\n      <th>WorkPrivate</th>\n      <td>0.657167</td>\n      <td>0.657167</td>\n      <td>0.657167</td>\n      <td>0.657167</td>\n    </tr>\n    <tr>\n      <th>Retired</th>\n      <td>0.271620</td>\n      <td>0.271620</td>\n      <td>0.271620</td>\n      <td>0.271620</td>\n    </tr>\n    <tr>\n      <th>Professional</th>\n      <td>0.070302</td>\n      <td>0.070302</td>\n      <td>0.070302</td>\n      <td>0.070302</td>\n    </tr>\n    <tr>\n      <th>AllTrips</th>\n      <td>0.000911</td>\n      <td>0.000911</td>\n      <td>0.000911</td>\n      <td>0.000911</td>\n    </tr>\n  </tbody>\n</table>\n</div>"
     },
     "metadata": {},
     "execution_count": 217
    }
   ],
   "source": [
    "get_normalized_proportion(data, 'pol_usage')"
   ]
  },
  {
   "cell_type": "code",
   "execution_count": 211,
   "metadata": {},
   "outputs": [],
   "source": [
    "x = data.groupby('year')"
   ]
  },
  {
   "cell_type": "code",
   "execution_count": 227,
   "metadata": {},
   "outputs": [
    {
     "output_type": "execute_result",
     "data": {
      "text/plain": [
       "year  pol_usage   \n",
       "1     WorkPrivate     0.657167\n",
       "      Retired         0.271620\n",
       "      Professional    0.070302\n",
       "      AllTrips        0.000911\n",
       "2     WorkPrivate     0.657167\n",
       "      Retired         0.271620\n",
       "      Professional    0.070302\n",
       "      AllTrips        0.000911\n",
       "3     WorkPrivate     0.657167\n",
       "      Retired         0.271620\n",
       "      Professional    0.070302\n",
       "      AllTrips        0.000911\n",
       "4     WorkPrivate     0.657167\n",
       "      Retired         0.271620\n",
       "      Professional    0.070302\n",
       "      AllTrips        0.000911\n",
       "Name: pol_usage, dtype: float64"
      ]
     },
     "metadata": {},
     "execution_count": 227
    }
   ],
   "source": [
    "x['pol_usage'].value_counts(normalize=True) #.unstack('pol_usage')"
   ]
  },
  {
   "cell_type": "code",
   "execution_count": null,
   "metadata": {},
   "outputs": [],
   "source": []
  }
 ],
 "metadata": {
  "language_info": {
   "codemirror_mode": {
    "name": "ipython",
    "version": 3
   },
   "file_extension": ".py",
   "mimetype": "text/x-python",
   "name": "python",
   "nbconvert_exporter": "python",
   "pygments_lexer": "ipython3",
   "version": "3.8.3-final"
  },
  "orig_nbformat": 2,
  "kernelspec": {
   "name": "python3",
   "display_name": "Python 3",
   "language": "python"
  }
 },
 "nbformat": 4,
 "nbformat_minor": 2
}